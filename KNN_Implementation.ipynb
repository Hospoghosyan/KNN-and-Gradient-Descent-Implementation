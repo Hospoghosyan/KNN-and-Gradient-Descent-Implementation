{
 "cells": [
  {
   "cell_type": "markdown",
   "id": "35094465",
   "metadata": {},
   "source": [
    "## Implement KNN Classifier"
   ]
  },
  {
   "cell_type": "markdown",
   "id": "f7a0c5b2",
   "metadata": {},
   "source": [
    "Hints and subtasks\n",
    "\n",
    "1. You will need distance function!  take Euclidean.\n",
    "2. You will need to find K closest points to the given one. You may start with the simple implementation of this algorithm."
   ]
  },
  {
   "cell_type": "code",
   "execution_count": 8,
   "id": "7896a5ea",
   "metadata": {},
   "outputs": [],
   "source": [
    "import numpy as np\n",
    "import matplotlib.pyplot as plt"
   ]
  },
  {
   "cell_type": "code",
   "execution_count": 9,
   "id": "7099ff4d",
   "metadata": {},
   "outputs": [],
   "source": [
    "class KNN:\n",
    "    def __init__(self, k=3):\n",
    "        self.k = k\n",
    "\n",
    "    def fit(self, X_train, y_train):\n",
    "        self.X_train = X_train\n",
    "        self.y_train = y_train\n",
    "\n",
    "    def distance(self, x1, x2):\n",
    "        \"\"\"\n",
    "        Calculate the distance between x1 and x2 data points.\n",
    "        TODO: implement\n",
    "        \"\"\"\n",
    "        dist = ((x1[0] - x2[0])**2 + (x1[1] - x2[1])**2) ** 0.5\n",
    "        return dist\n",
    "\n",
    "    def predict(self, X_test):\n",
    "        predictions = [self._predict(x) for x in X_test]\n",
    "        return np.array(predictions)\n",
    "\n",
    "    def _predict(self, x):\n",
    "        \"\"\"\n",
    "        This function should return the most common class label among the k neighbors for only 1 data point.\n",
    "        TODO: implement\n",
    "        \"\"\" \n",
    "        distances = [self.distance(x, x_train_point) for x_train_point in self.X_train]\n",
    "        k_nearest_indices = np.argsort(distances)[:self.k]\n",
    "        k_nearest_labels = self.y_train[k_nearest_indices]\n",
    "        unique_labels, counts = np.unique(k_nearest_labels, return_counts=True)\n",
    "        most_common = unique_labels[np.argmax(counts)]\n",
    "\n",
    "\n",
    "        return most_common\n"
   ]
  },
  {
   "cell_type": "code",
   "execution_count": 10,
   "id": "238f8b0f",
   "metadata": {},
   "outputs": [],
   "source": [
    "# Example usage:\n",
    "\n",
    "# Training data\n",
    "X_train = np.array([[1, 2], [2, 3], [3, 1], [5, 5], [6, 7]])\n",
    "y_train = np.array([0, 0, 0, 1, 1])\n",
    "\n",
    "# Testing data\n",
    "X_test = np.array([[4, 4], [1, 1]])\n"
   ]
  },
  {
   "cell_type": "code",
   "execution_count": null,
   "id": "6ae3c4d5-a094-4668-a742-7a531bdfc641",
   "metadata": {},
   "outputs": [],
   "source": []
  },
  {
   "cell_type": "code",
   "execution_count": 11,
   "id": "b178837a",
   "metadata": {},
   "outputs": [
    {
     "data": {
      "image/png": "[encoded data removed]",
      "text/plain": [
       "<Figure size 640x480 with 1 Axes>"
      ]
     },
     "metadata": {},
     "output_type": "display_data"
    }
   ],
   "source": [
    "plt.scatter(X_train[:, 0], X_train[:, 1], c=y_train)\n",
    "plt.show()"
   ]
  },
  {
   "cell_type": "markdown",
   "id": "701edb20",
   "metadata": {},
   "source": [
    "### Create and fit a KNN classifier"
   ]
  },
  {
   "cell_type": "code",
   "execution_count": 12,
   "id": "1c63010e",
   "metadata": {},
   "outputs": [
    {
     "name": "stdout",
     "output_type": "stream",
     "text": [
      "My Predictions: [0 0]\n"
     ]
    }
   ],
   "source": [
    "knn = KNN(3)\n",
    "knn.fit(X_train,y_train)\n",
    "# Make predictions on the test data\n",
    "my_predictions = knn.predict(X_test)\n",
    "print(\"My Predictions:\", my_predictions)"
   ]
  },
  {
   "cell_type": "markdown",
   "id": "cbab28e3",
   "metadata": {},
   "source": [
    "### Try to interpret results for different values of k (e.g. 1, 3, 5, etc.)"
   ]
  },
  {
   "cell_type": "code",
   "execution_count": 13,
   "id": "a441ce8b",
   "metadata": {},
   "outputs": [
    {
     "name": "stdout",
     "output_type": "stream",
     "text": [
      "My Predictions: [1 0]\n"
     ]
    }
   ],
   "source": [
    "knn = KNN(1)\n",
    "knn.fit(X_train,y_train)\n",
    "# Make predictions on the test data\n",
    "my_predictions = knn.predict(X_test)\n",
    "print(\"My Predictions:\", my_predictions)"
   ]
  }
 ],
 "metadata": {
  "kernelspec": {
   "display_name": "Python 3 (ipykernel)",
   "language": "python",
   "name": "python3"
  },
  "language_info": {
   "codemirror_mode": {
    "name": "ipython",
    "version": 3
   },
   "file_extension": ".py",
   "mimetype": "text/x-python",
   "name": "python",
   "nbconvert_exporter": "python",
   "pygments_lexer": "ipython3",
   "version": "3.11.5"
  }
 },
 "nbformat": 4,
 "nbformat_minor": 5
}
